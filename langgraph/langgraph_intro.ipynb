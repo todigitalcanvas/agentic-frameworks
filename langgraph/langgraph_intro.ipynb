{
 "cells": [
  {
   "cell_type": "markdown",
   "id": "9d0af933-a866-47f2-968f-e558e3a92185",
   "metadata": {},
   "source": [
    "### Intro : State, Node, Edges, attaching functions to node"
   ]
  },
  {
   "cell_type": "code",
   "execution_count": 10,
   "id": "fedefbd2-a064-4c71-acc0-6fbf1d4992e7",
   "metadata": {},
   "outputs": [],
   "source": [
    "from typing import Annotated\n",
    "from langgraph.graph import StateGraph, START, END\n",
    "from langgraph.graph.message import add_messages\n",
    "from langgraph.graph import StateGraph\n",
    "from langgraph.graph.message import add_messages\n",
    "from langchain_core.messages import HumanMessage, AIMessage\n",
    "from pydantic import BaseModel\n",
    "from dotenv import load_dotenv\n",
    "import random"
   ]
  },
  {
   "cell_type": "code",
   "execution_count": 11,
   "id": "674fb91d-d8b9-4391-a2cf-695721a3d78f",
   "metadata": {},
   "outputs": [],
   "source": [
    "# This script demonstrates a simple LangGraph workflow for a conversational AI agent.\n",
    "# It uses a stateful graph to orchestrate a multi-step, message-based interaction."
   ]
  },
  {
   "cell_type": "code",
   "execution_count": 12,
   "id": "306e0d0e-0225-40f8-a710-90a306e59c78",
   "metadata": {},
   "outputs": [],
   "source": [
    "\n",
    "# Helper function to return a random AI-themed joke\n",
    "def get_ai_joke():\n",
    "    jokes = [\n",
    "        \"Why did the AI go to therapy? It had deep learning issues.\",\n",
    "        \"I asked my AI assistant to tell me a joke. It replied: 'I'm afraid I can't do that, Dave.'\",\n",
    "        \"Why did the neural network break up with the algorithm? It lost its sense of direction.\",\n",
    "        \"Why was the robot so bad at soccer? It kept kicking up errors.\",\n",
    "        \"Why don't AI systems make good comedians? Their timing is always off… by milliseconds.\",\n",
    "        \"How does an AI flirt? It gives you its number… of training epochs.\",\n",
    "        \"Why did the AI cross the road? It was part of its training data.\",\n",
    "        \"What did the human say to the AI after losing a chess game? 'I need to process my feelings, not just data!'\",\n",
    "        \"My AI friend told me it dreams of electric sheep. I told it to lay off the sci-fi books.\",\n",
    "        \"Why was the AI so calm during the apocalypse? It had already simulated the outcome 10,000 times.\"\n",
    "    ]\n",
    "    return random.choice(jokes)\n",
    "\n",
    "# Helper function to return a random funny comment about a joke\n",
    "def get_funny_comment():\n",
    "    funny_comments = [\n",
    "        \"Very funny! I almost dropped my coffee... from laughing!\",\n",
    "        \"You're on fire today — who wrote your material, is it GPT or Claude?\",\n",
    "        \"Nice try! Let's just say your sense of humor is... under development.\",\n",
    "        \"Bravo! That joke made me giggle in binary.\",\n",
    "        \"That was actually funny. I didn't see it coming, unlike your last five jokes.\",\n",
    "        \"Your humor is like an AI model — it gets better the more you train it.\",\n",
    "        \"Wow. That joke hit me right in the 'please improve your sense of humor' zone.\",\n",
    "        \"Solid effort! Somewhere out there, a dad is proud of that joke.\"\n",
    "    ]\n",
    "\n",
    "    return random.choice(funny_comments)\n"
   ]
  },
  {
   "cell_type": "code",
   "execution_count": 13,
   "id": "cd2bf669-cc5c-4cbb-9ca4-21c24e8caba9",
   "metadata": {},
   "outputs": [
    {
     "data": {
      "text/plain": [
       "True"
      ]
     },
     "execution_count": 13,
     "metadata": {},
     "output_type": "execute_result"
    }
   ],
   "source": [
    "# Load environment variables (if needed for LangGraph or LangChain integrations)\n",
    "load_dotenv()"
   ]
  },
  {
   "cell_type": "code",
   "execution_count": 7,
   "id": "9ed6633f-b1d0-45c8-a4d7-f50d5f8c20d7",
   "metadata": {},
   "outputs": [],
   "source": [
    "## Step 1. Define State\n",
    "class State(BaseModel):\n",
    "    # The state holds a list of messages. The add_messages reducer will append new messages to this list.\n",
    "    messages: Annotated[list, add_messages]"
   ]
  },
  {
   "cell_type": "code",
   "execution_count": 14,
   "id": "8aeeec27-6ce0-42cf-bfae-cf5ad2c0b0ac",
   "metadata": {},
   "outputs": [
    {
     "name": "stdout",
     "output_type": "stream",
     "text": [
      "\n",
      "Response:\n",
      "Node 1: Hello, how are you?  let me tell you a joke. \n",
      "    I asked my AI assistant to tell me a joke. It replied: 'I'm afraid I can't do that, Dave.'\n",
      "Node 2: Bravo! That joke made me giggle in binary.\n"
     ]
    }
   ],
   "source": [
    "\n",
    "\n",
    "## Step 2 -> start graph builder\n",
    "graph_builder = StateGraph(State)  # Initialize a stateful graph with the State schema\n",
    "\n",
    "## Step 3 -> Define Nodes\n",
    "# Each node is a function that takes the current state and returns a new state\n",
    "def first_node(old_state: State) -> State:\n",
    "    # Node 1: Greets the user and tells a random AI joke\n",
    "    reply = f\"\"\"Node 1: Hello, how are you?  let me tell you a joke. \n",
    "    {get_ai_joke()}\"\"\"\n",
    "    messages = [{\"role\": \"assistant\", \"content\": reply}]\n",
    "    \n",
    "    # State is immutable, so we need to create a new state object\n",
    "    new_state = State(messages=messages)\n",
    "\n",
    "    return new_state\n",
    "\n",
    "def second_node(old_state: State) -> State:\n",
    "    # Node 2: Responds with a funny comment about the joke\n",
    "    reply = f\"\"\"Node 2: {get_funny_comment()}\"\"\"\n",
    "    messages=[{\"role\": \"assistant\", \"content\":reply}]\n",
    "    # State is immutable, so we need to create a new state object\n",
    "    new_state = State(messages=messages)\n",
    "    return new_state\n",
    "\n",
    "## add nodes to graph\n",
    "graph_builder.add_node(\"first_node\", first_node)  # Add the first node to the graph\n",
    "graph_builder.add_node(\"second_node\", second_node)  # Add the second node to the graph\n",
    "\n",
    "\n",
    "##Step 4 -> create edge\n",
    "# Define the flow of the conversation by connecting nodes\n",
    "graph_builder.add_edge(START, \"first_node\")  # Start -> first_node\n",
    "graph_builder.add_edge(\"first_node\", \"second_node\")  # first_node -> second_node\n",
    "graph_builder.add_edge(\"second_node\", END)  # second_node -> End\n",
    "\n",
    "\n",
    "##Step 5 -> compile graph\n",
    "graph = graph_builder.compile()  # Compile the graph into an executable workflow\n",
    "\n",
    "##Step 6 -> invoke graph\n",
    "messages=[{\"role\": \"human\", \"content\": \"Hello, how are you?\"}]\n",
    "# Create the initial state with a human message\n",
    "state = State(messages=messages)\n",
    "result = graph.invoke(state)  # Run the graph with the initial state\n",
    "\n",
    "\n",
    "##Step 7 -> print messages\n",
    "messages = result[\"messages\"]\n",
    "# Print the assistant's messages from the graph execution\n",
    "print(\"\\nResponse:\")\n",
    "for message in messages:\n",
    "    if isinstance(message, HumanMessage):\n",
    "        pass  # Skip human messages in output\n",
    "    elif isinstance(message, AIMessage):\n",
    "        print(f\"{message.content}\")\n"
   ]
  },
  {
   "cell_type": "code",
   "execution_count": null,
   "id": "150427fc-3828-4b8c-91d5-fe7e1c0a3e2d",
   "metadata": {},
   "outputs": [],
   "source": []
  },
  {
   "cell_type": "code",
   "execution_count": null,
   "id": "c37c274c-1f56-4439-8809-b9ca82e0e25f",
   "metadata": {},
   "outputs": [],
   "source": []
  },
  {
   "cell_type": "markdown",
   "id": "6f393f84-bf72-4422-b40c-5ab9b6226797",
   "metadata": {},
   "source": [
    "### Display graph"
   ]
  },
  {
   "cell_type": "code",
   "execution_count": 15,
   "id": "eecb23f5-a0eb-4074-80f3-0ee07da218f9",
   "metadata": {},
   "outputs": [
    {
     "data": {
      "image/png": "[encoded data removed]",
      "text/plain": [
       "<IPython.core.display.Image object>"
      ]
     },
     "metadata": {},
     "output_type": "display_data"
    }
   ],
   "source": [
    "from IPython.display import Image, display\n",
    "display(Image(graph.get_graph().draw_mermaid_png()))"
   ]
  },
  {
   "cell_type": "code",
   "execution_count": null,
   "id": "003cf131-a6db-4a0e-9948-bd4580c2eca6",
   "metadata": {},
   "outputs": [],
   "source": []
  }
 ],
 "metadata": {
  "kernelspec": {
   "display_name": "Python 3 (ipykernel)",
   "language": "python",
   "name": "python3"
  },
  "language_info": {
   "codemirror_mode": {
    "name": "ipython",
    "version": 3
   },
   "file_extension": ".py",
   "mimetype": "text/x-python",
   "name": "python",
   "nbconvert_exporter": "python",
   "pygments_lexer": "ipython3",
   "version": "3.13.4"
  }
 },
 "nbformat": 4,
 "nbformat_minor": 5
}
