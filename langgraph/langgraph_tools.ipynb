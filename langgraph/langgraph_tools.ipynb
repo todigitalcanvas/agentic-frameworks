{
 "cells": [
  {
   "cell_type": "markdown",
   "id": "aa93849e-003b-4d39-8a6f-41f44c6a7fc9",
   "metadata": {},
   "source": [
    "#### LangGraph workflow that integrates external tools (e.g., web search) into a stateful, graph-based conversational agent. \n",
    "#### The agent can decide   when to use a tool node and when to respond   directly, based on the conversation state."
   ]
  },
  {
   "cell_type": "code",
   "execution_count": 8,
   "id": "fedefbd2-a064-4c71-acc0-6fbf1d4992e7",
   "metadata": {},
   "outputs": [],
   "source": [
    "from typing import Annotated\n",
    "from langgraph.graph import StateGraph, START, END\n",
    "from langgraph.graph.message import add_messages\n",
    "from langgraph.graph import StateGraph\n",
    "from langchain_core.messages import HumanMessage, AIMessage\n",
    "from pydantic import BaseModel\n",
    "from dotenv import load_dotenv\n",
    "from langchain.agents import Tool\n",
    "from langgraph.prebuilt import ToolNode, tools_condition\n",
    "from langchain_community.utilities import GoogleSerperAPIWrapper\n",
    "from langchain_openai import ChatOpenAI\n",
    "from langchain_ollama import ChatOllama"
   ]
  },
  {
   "cell_type": "code",
   "execution_count": 9,
   "id": "b048685f-64ba-44ce-9ba7-ab3dae54b86d",
   "metadata": {},
   "outputs": [],
   "source": [
    "# This script demonstrates a LangGraph workflow that integrates external tools (e.g., web search)\n",
    "# into a stateful, graph-based conversational agent. The agent can decide when to use a tool node\n",
    "# and when to respond directly, based on the conversation state."
   ]
  },
  {
   "cell_type": "code",
   "execution_count": 10,
   "id": "674fb91d-d8b9-4391-a2cf-695721a3d78f",
   "metadata": {},
   "outputs": [
    {
     "data": {
      "text/plain": [
       "True"
      ]
     },
     "execution_count": 10,
     "metadata": {},
     "output_type": "execute_result"
    }
   ],
   "source": [
    "load_dotenv()"
   ]
  },
  {
   "cell_type": "code",
   "execution_count": 4,
   "id": "306e0d0e-0225-40f8-a710-90a306e59c78",
   "metadata": {},
   "outputs": [],
   "source": [
    "# Setup Tools\n",
    "# Instantiate a Google Serper API wrapper for web search\n",
    "serper = GoogleSerperAPIWrapper()\n",
    "# Define a LangChain Tool for online search\n",
    "tool_search = Tool(\n",
    "        name=\"search\",\n",
    "        func=serper.run,\n",
    "        description=\"Useful for when you need more information from an online search\"\n",
    "    )\n",
    "\n",
    "# List of available tools for the agent\n",
    "tools = [tool_search]\n",
    "\n",
    "# Helper function to get an LLM instance by model name\n",
    "def get_llm(model_name: str):\n",
    "    if model_name == \"gpt\":\n",
    "        return ChatOpenAI(model=\"gpt-4o-mini\")  # Use OpenAI GPT model\n",
    "    elif model_name == \"llama\":\n",
    "        return ChatOllama(model=\"llama3.2:1b\")  # Use local Ollama Llama model\n",
    "\n",
    "\n"
   ]
  },
  {
   "cell_type": "code",
   "execution_count": 11,
   "id": "9ed6633f-b1d0-45c8-a4d7-f50d5f8c20d7",
   "metadata": {},
   "outputs": [],
   "source": [
    "## Step 1. Define State\n",
    "class State(BaseModel):\n",
    "    # The state holds a list of messages. The add_messages reducer will append new messages to this list.\n",
    "    messages: Annotated[list, add_messages]"
   ]
  },
  {
   "cell_type": "code",
   "execution_count": null,
   "id": "8aeeec27-6ce0-42cf-bfae-cf5ad2c0b0ac",
   "metadata": {},
   "outputs": [
    {
     "name": "stdin",
     "output_type": "stream",
     "text": [
      "Enter your message:  I am John, introduce yourself\n"
     ]
    },
    {
     "name": "stdout",
     "output_type": "stream",
     "text": [
      "AI: Hello John! I'm an AI here to assist you with information, answer questions, and help with a variety of tasks. How can I assist you today?\n"
     ]
    },
    {
     "name": "stdin",
     "output_type": "stream",
     "text": [
      "Enter your message:  What is capital of France\n"
     ]
    },
    {
     "name": "stdout",
     "output_type": "stream",
     "text": [
      "AI: The capital of France is Paris.\n"
     ]
    },
    {
     "name": "stdin",
     "output_type": "stream",
     "text": [
      "Enter your message:  What is my name\n"
     ]
    },
    {
     "name": "stdout",
     "output_type": "stream",
     "text": [
      "AI: I don't have access to personal information about you unless you've shared it during our conversation. If you'd like me to know your name, please tell me!\n"
     ]
    }
   ],
   "source": [
    "#setup llm and bind tools\n",
    "llm = get_llm(\"gpt\")\n",
    "llm_with_tools = llm.bind_tools(tools)\n",
    "\n",
    "## Step 2 -> start graph builder\n",
    "graph_builder = StateGraph(State)\n",
    "\n",
    "## Step 3 -> Define Nodes\n",
    "def chatbot(state: State) -> State:\n",
    "    new_messages = [llm_with_tools.invoke(state.messages)]\n",
    "    return State(messages=new_messages)\n",
    "\n",
    "## add nodes to graph\n",
    "graph_builder.add_node(\"chatbot\", chatbot)\n",
    "graph_builder.add_node(\"tools\", ToolNode(tools=tools))\n",
    "\n",
    "\n",
    "##Step 4 -> create edge\n",
    "graph_builder.add_conditional_edges( \"chatbot\", tools_condition, \"tools\")\n",
    "graph_builder.add_edge(\"tools\", \"chatbot\")\n",
    "graph_builder.add_edge(START, \"chatbot\")\n",
    "graph_builder.add_edge(\"chatbot\", END)\n",
    "\n",
    "\n",
    "##Step 5 -> compile graph\n",
    "graph = graph_builder.compile()\n",
    "\n",
    "##Step 6 -> create entry for chat and invoke graph\n",
    "def chat(user_input: str, history):\n",
    "    result = graph.invoke({\"messages\": [{\"role\": \"user\", \"content\": user_input}]})\n",
    "    return result[\"messages\"][-1].content\n",
    "\n",
    "\n",
    "\n",
    "##Step 7 -> Accept user input and invoke graph\n",
    "while True:\n",
    "    user_input = input(\"Enter your message: \")\n",
    "    if user_input.strip().lower() in [\"exit\", \"bye\"]:\n",
    "        print(\"Goodbye!\")\n",
    "        break\n",
    "    result = graph.invoke({\"messages\": [{\"role\": \"user\", \"content\": user_input}]})\n",
    "    print(f\"AI: {result['messages'][-1].content}\")\n"
   ]
  },
  {
   "cell_type": "code",
   "execution_count": null,
   "id": "150427fc-3828-4b8c-91d5-fe7e1c0a3e2d",
   "metadata": {},
   "outputs": [],
   "source": []
  },
  {
   "cell_type": "code",
   "execution_count": null,
   "id": "c37c274c-1f56-4439-8809-b9ca82e0e25f",
   "metadata": {},
   "outputs": [],
   "source": []
  },
  {
   "cell_type": "markdown",
   "id": "6f393f84-bf72-4422-b40c-5ab9b6226797",
   "metadata": {},
   "source": [
    "### Display graph"
   ]
  },
  {
   "cell_type": "code",
   "execution_count": 7,
   "id": "eecb23f5-a0eb-4074-80f3-0ee07da218f9",
   "metadata": {},
   "outputs": [
    {
     "data": {
      "image/png": "[encoded data removed]",
      "text/plain": [
       "<IPython.core.display.Image object>"
      ]
     },
     "metadata": {},
     "output_type": "display_data"
    }
   ],
   "source": [
    "from IPython.display import Image, display\n",
    "display(Image(graph.get_graph().draw_mermaid_png()))"
   ]
  },
  {
   "cell_type": "code",
   "execution_count": null,
   "id": "003cf131-a6db-4a0e-9948-bd4580c2eca6",
   "metadata": {},
   "outputs": [],
   "source": []
  },
  {
   "cell_type": "code",
   "execution_count": null,
   "id": "8978600d-7c2f-4004-b1bb-875faad7f742",
   "metadata": {},
   "outputs": [],
   "source": []
  },
  {
   "cell_type": "code",
   "execution_count": null,
   "id": "1c475450-a6b1-4128-b5ed-9d12c0803134",
   "metadata": {},
   "outputs": [],
   "source": []
  },
  {
   "cell_type": "code",
   "execution_count": null,
   "id": "f03a8caf-6411-4c66-aa97-b478c15adae5",
   "metadata": {},
   "outputs": [],
   "source": []
  },
  {
   "cell_type": "code",
   "execution_count": null,
   "id": "6d61eebe-00ef-46ad-aa48-0d1d8df9df27",
   "metadata": {},
   "outputs": [],
   "source": []
  }
 ],
 "metadata": {
  "kernelspec": {
   "display_name": "Python 3 (ipykernel)",
   "language": "python",
   "name": "python3"
  },
  "language_info": {
   "codemirror_mode": {
    "name": "ipython",
    "version": 3
   },
   "file_extension": ".py",
   "mimetype": "text/x-python",
   "name": "python",
   "nbconvert_exporter": "python",
   "pygments_lexer": "ipython3",
   "version": "3.13.4"
  }
 },
 "nbformat": 4,
 "nbformat_minor": 5
}
