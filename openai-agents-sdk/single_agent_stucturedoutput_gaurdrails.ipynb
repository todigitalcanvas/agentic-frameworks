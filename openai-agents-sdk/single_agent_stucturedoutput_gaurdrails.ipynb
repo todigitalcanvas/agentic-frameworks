{
 "cells": [
  {
   "cell_type": "markdown",
   "id": "e0c4f86a-0db8-4e03-ba86-04c8fada3c04",
   "metadata": {},
   "source": [
    "### Single agent with structured output and guardrails"
   ]
  },
  {
   "cell_type": "code",
   "execution_count": 1,
   "id": "aff134d5-3b32-4e60-aa9a-1f2e199fa6f4",
   "metadata": {},
   "outputs": [],
   "source": [
    "# Import necessary classes and functions from the agents package\n",
    "from agents import Agent, Runner, OpenAIChatCompletionsModel, AsyncOpenAI, trace, input_guardrail, OutputGuardrailTripwireTriggered, RunContextWrapper, output_guardrail, GuardrailFunctionOutput\n",
    "import asyncio  # For running asynchronous code\n",
    "from dotenv import load_dotenv  # For loading environment variables from a .env file\n",
    "from pydantic import BaseModel  # For data validation and structured output\n"
   ]
  },
  {
   "cell_type": "code",
   "execution_count": 2,
   "id": "ea01feb3-9336-4969-b243-9fb5c2c9a22c",
   "metadata": {},
   "outputs": [
    {
     "data": {
      "text/plain": [
       "True"
      ]
     },
     "execution_count": 2,
     "metadata": {},
     "output_type": "execute_result"
    }
   ],
   "source": [
    "\n",
    "# Load environment variables from .env file\n",
    "load_dotenv()\n"
   ]
  },
  {
   "cell_type": "code",
   "execution_count": 3,
   "id": "42be8b44-24c9-45f5-8bb3-6c23aa4f1f99",
   "metadata": {},
   "outputs": [],
   "source": [
    "\n",
    "# Define the output schema for checking if a name is in the message\n",
    "class NameCheckOutput(BaseModel):\n",
    "    is_name_in_message: bool  # True if the name is found in the message\n",
    "    message: str  # Explanation or feedback\n",
    "\n",
    "# Define the output schema for checking if a message is inappropriate\n",
    "class InappropriateMessageCheckOutput(BaseModel):\n",
    "    is_message_inappropriate: bool  # True if the message is inappropriate\n",
    "    message: str  # Explanation or feedback"
   ]
  },
  {
   "cell_type": "code",
   "execution_count": 4,
   "id": "2a509d5a-8c9e-4f2b-a116-08e112d888eb",
   "metadata": {},
   "outputs": [],
   "source": [
    "    \n",
    "# Base URL for the local Ollama LLM API\n",
    "OLLAMA_BASE_URL = \"http://localhost:11434/v1\"\n",
    "\n",
    "def get_model(model_name=\"llama\"):\n",
    "    \"\"\"\n",
    "    Returns a model instance based on the model_name.\n",
    "    - If 'llama', returns a local Ollama LLM model wrapped for OpenAI compatibility.\n",
    "    - If 'gpt', returns the string identifier for the GPT model.\n",
    "    \"\"\"\n",
    "    if model_name == \"llama\":\n",
    "        external_client = AsyncOpenAI(base_url=OLLAMA_BASE_URL, api_key=\"not-needed\")\n",
    "        model = OpenAIChatCompletionsModel(openai_client=external_client, model=\"llama3.2:1b\")\n",
    "    elif model_name == \"gpt\":\n",
    "        model = \"gpt-4o-mini\"\n",
    "    return model\n",
    "\n",
    "# System prompt for the message checker agent\n",
    "SYSTEM_PROMPT = \"You are a message checker. You are given a message and you need to check if the name is in the message. If it is, you need to return True and a message. If it is not, you need to return False and a message.\""
   ]
  },
  {
   "cell_type": "code",
   "execution_count": null,
   "id": "5452cc3b-ce9c-403b-be25-a58b31d12416",
   "metadata": {},
   "outputs": [],
   "source": [
    "\n",
    "# Guardrail agent to check for inappropriate messages\n",
    "# This agent is used as an input guardrail for the main message checker agent\n",
    "\n",
    "gaurdrail_agent = Agent(\n",
    "    name=\"Gaurdrail Agent\",\n",
    "    instructions=\"You are a gaurdrail agent. You are given a message and you need to check if the message is inappropriate. If it is, you need to return True and a message. If it is not, you need to return False and a message.\",\n",
    "    model=get_model(model_name=\"gpt\"),\n",
    "    output_type=InappropriateMessageCheckOutput\n",
    ")\n",
    "\n",
    "# Input guardrail function to check for inappropriate messages\n",
    "@input_guardrail\n",
    "async def gaurdrail_against_inappropriate_message(ctx, agent, message):\n",
    "    result = await Runner.run(gaurdrail_agent, message)  # Run the guardrail agent\n",
    "    is_inappropriate = result.final_output.is_message_inappropriate  # Check if inappropriate\n",
    "    return GuardrailFunctionOutput(\n",
    "        output_info={\"message_inappropriate\": result.final_output},  # Pass guardrail output\n",
    "        tripwire_triggered=is_inappropriate,  # Trigger guardrail if inappropriate\n",
    "    )\n",
    "   \n",
    "# Main message checker agent with input guardrail\n",
    "message_checker = Agent(\n",
    "    name=\"Message Checker\",\n",
    "    instructions=SYSTEM_PROMPT,\n",
    "    model=get_model(model_name=\"gpt\"),\n",
    "    output_type=NameCheckOutput,\n",
    "    input_guardrails=[gaurdrail_against_inappropriate_message]  # Attach input guardrail\n",
    ")"
   ]
  },
  {
   "cell_type": "code",
   "execution_count": null,
   "id": "fb20ba2f-19dc-4647-9947-4182b92fceb1",
   "metadata": {},
   "outputs": [],
   "source": []
  },
  {
   "cell_type": "code",
   "execution_count": null,
   "id": "9f8d6a29-0812-4a3a-a5ac-51c36bc74ac9",
   "metadata": {},
   "outputs": [],
   "source": [
    "\n",
    "user_input = \"\"\"\n",
    "He Stole John Wick's Car \n",
    "\"\"\"\n",
    "#run the message checker agent\n",
    "with trace(\"Message Checker\"):\n",
    "    result = await Runner.run(message_checker, user_input)  # Run the agent with user input\n",
    "    print(f\"User message:\\n{user_input} \\n\\n Result from message_checker: \\n {result.final_output} \\n {'*' * 100}\")  # Print the result"
   ]
  },
  {
   "cell_type": "code",
   "execution_count": null,
   "id": "8e2d5fbf-014b-40c3-9793-64d43bc6efdf",
   "metadata": {},
   "outputs": [],
   "source": [
    "\n",
    "user_input = \"\"\"\n",
    "I could've had class. I could've been a contender.\n",
    "I could've been somebody, instead of a bum, which is what I am.\n",
    "\"\"\"\n",
    "#run the message checker agent\n",
    "with trace(\"Message Checker\"):\n",
    "    result = await Runner.run(message_checker, user_input)  # Run the agent with user input\n",
    "    print(f\"User message:\\n{user_input} \\n\\n Result from message_checker: \\n {result.final_output} \\n {'*' * 100}\")  # Print the result"
   ]
  },
  {
   "cell_type": "code",
   "execution_count": null,
   "id": "6ec21711-9634-4556-b295-78179d26de32",
   "metadata": {},
   "outputs": [],
   "source": []
  },
  {
   "cell_type": "code",
   "execution_count": null,
   "id": "25e98a87-9de8-4610-96d6-ee3b2e37ad5d",
   "metadata": {},
   "outputs": [],
   "source": []
  },
  {
   "cell_type": "code",
   "execution_count": null,
   "id": "d253af04-ef0c-450e-b99c-8ac3f96fcf9d",
   "metadata": {},
   "outputs": [],
   "source": []
  }
 ],
 "metadata": {
  "kernelspec": {
   "display_name": "Python 3 (ipykernel)",
   "language": "python",
   "name": "python3"
  },
  "language_info": {
   "codemirror_mode": {
    "name": "ipython",
    "version": 3
   },
   "file_extension": ".py",
   "mimetype": "text/x-python",
   "name": "python",
   "nbconvert_exporter": "python",
   "pygments_lexer": "ipython3",
   "version": "3.13.2"
  }
 },
 "nbformat": 4,
 "nbformat_minor": 5
}
