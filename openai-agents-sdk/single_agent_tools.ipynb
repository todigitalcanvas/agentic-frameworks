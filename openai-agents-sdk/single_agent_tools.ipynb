{
 "cells": [
  {
   "attachments": {},
   "cell_type": "markdown",
   "id": "05fe0a1c-b7c0-44c8-81ee-cabb50eaf177",
   "metadata": {},
   "source": [
    "### Single agent with tools: Single agent uses tools (example weather tool) to get weather alerts."
   ]
  },
  {
   "cell_type": "code",
   "execution_count": 1,
   "id": "2446cb50-ab73-4fc9-8cda-30da440345b0",
   "metadata": {},
   "outputs": [],
   "source": [
    "# Import necessary classes and functions from the agents package\n",
    "from agents import Agent, Runner\n",
    "from agents import OpenAIChatCompletionsModel, AsyncOpenAI, trace, function_tool\n",
    "import asyncio  # For running asynchronous code\n",
    "from dotenv import load_dotenv  # For loading environment variables from a .env file\n",
    "from typing import Any  # For type annotations\n",
    "import httpx  # For making async HTTP requests"
   ]
  },
  {
   "cell_type": "code",
   "execution_count": 2,
   "id": "42a1f662-112b-4a63-88b2-8d2efdff55a4",
   "metadata": {},
   "outputs": [
    {
     "data": {
      "text/plain": [
       "True"
      ]
     },
     "execution_count": 2,
     "metadata": {},
     "output_type": "execute_result"
    }
   ],
   "source": [
    "# Load environment variables from .env file\n",
    "load_dotenv()"
   ]
  },
  {
   "cell_type": "code",
   "execution_count": 3,
   "id": "bf64ecb2-c60c-40e0-9f3c-348bc912a2c3",
   "metadata": {},
   "outputs": [],
   "source": [
    "\n",
    "# Base URL for the National Weather Service API\n",
    "NWS_API_BASE = \"https://api.weather.gov\"\n",
    "# User-Agent string required by the NWS API\n",
    "USER_AGENT = \"weather-app/1.0\""
   ]
  },
  {
   "cell_type": "code",
   "execution_count": 4,
   "id": "be0eff7a-0422-48db-80ee-d72455602fd7",
   "metadata": {},
   "outputs": [],
   "source": [
    "\n",
    "# Make an async request to the NWS API with error handling\n",
    "async def make_nws_request(url: str) -> dict[str, Any] | None:\n",
    "    \"\"\"Make a request to the NWS API with proper error handling.\"\"\"\n",
    "    headers = {\n",
    "        \"User-Agent\": USER_AGENT,  # Required by NWS API\n",
    "        \"Accept\": \"application/geo+json\"  # Request GeoJSON response\n",
    "    }\n",
    "    async with httpx.AsyncClient() as client:\n",
    "        try:\n",
    "            response = await client.get(url, headers=headers, timeout=30.0)  # Make async GET request\n",
    "            response.raise_for_status()  # Raise error for bad status\n",
    "            return response.json()  # Return parsed JSON\n",
    "        except Exception:\n",
    "            return None  # Return None on any error\n",
    "\n",
    "# Format a single alert feature into a readable string\n",
    "def format_alert(feature: dict) -> str:\n",
    "    \"\"\"Format an alert feature into a readable string.\"\"\"\n",
    "    props = feature[\"properties\"]  # Extract properties from feature\n",
    "    return f\"\"\"\n",
    "                Event: {props.get('event', 'Unknown')}\n",
    "                Area: {props.get('areaDesc', 'Unknown')}\n",
    "                Severity: {props.get('severity', 'Unknown')}\n",
    "                Description: {props.get('description', 'No description available')}\n",
    "                Instructions: {props.get('instruction', 'No specific instructions provided')}\n",
    "            \"\"\"\n"
   ]
  },
  {
   "cell_type": "code",
   "execution_count": 5,
   "id": "3300e1e6-d80e-4eab-8a1d-2d5fbe91e30b",
   "metadata": {},
   "outputs": [],
   "source": [
    "\n",
    "# Tool function to get weather alerts for a US state\n",
    "@function_tool\n",
    "async def get_alerts(state: str) -> str:\n",
    "    \"\"\"Get weather alerts for a US state.\n",
    "    Args:\n",
    "        state: Two-letter US state code (e.g. CA, NY)\n",
    "    \"\"\"\n",
    "    url = f\"{NWS_API_BASE}/alerts/active/area/{state}\"  # Build API URL for state\n",
    "    data = await make_nws_request(url)  # Fetch data from NWS API\n",
    "    if not data or \"features\" not in data:\n",
    "        return \"Unable to fetch alerts or no alerts found.\"\n",
    "    if not data[\"features\"]:\n",
    "        return \"No active alerts for this state.\"\n",
    "    alerts = [format_alert(feature) for feature in data[\"features\"]]  # Format each alert\n",
    "    return \"\\n---\\n\".join(alerts)  # Join alerts with separator\n",
    "\n",
    "# Get a model instance for either local LLM (Ollama) or GPT\n",
    "def get_model(model_name=\"llama\"):\n",
    "    if model_name == \"llama\":\n",
    "        # Create AsyncOpenAI client for local Ollama server\n",
    "        external_client = AsyncOpenAI(base_url=\"http://localhost:11434/v1\", api_key=\"not-needed\")\n",
    "        # Wrap client in OpenAIChatCompletionsModel for compatibility\n",
    "        model = OpenAIChatCompletionsModel(openai_client=external_client, model=\"llama3.2:1b\")\n",
    "    elif model_name == \"gpt\":\n",
    "        # Use GPT model identifier\n",
    "        model = \"gpt-4o-mini\"\n",
    "    return model\n",
    "\n",
    "# System prompt for the weather reporter agent\n",
    "SYSTEM_PROMPT = \"\"\"\n",
    "You are a weather reporter. You are responsible for reporting the weather alerts for a given state.\n",
    "You have access to the following tools:\n",
    "- get_alerts\n",
    "\n",
    "You will be given a state. You will use the get_alerts tool to get the weather alerts for the state.\n",
    "\"\"\""
   ]
  },
  {
   "cell_type": "code",
   "execution_count": 6,
   "id": "58cec3ae-37e5-455c-9ab7-8c41901e6d9c",
   "metadata": {},
   "outputs": [],
   "source": [
    "user_input=\"What is the weather in Texas?\""
   ]
  },
  {
   "cell_type": "code",
   "execution_count": 7,
   "id": "513bdd29-0a50-4692-9f66-6c5306c02fa9",
   "metadata": {},
   "outputs": [
    {
     "name": "stdout",
     "output_type": "stream",
     "text": [
      "\n",
      "Result from weather_reporter: \n",
      " ### Weather Alerts for Texas\n",
      "\n",
      "1. **Severe Thunderstorm Warning**\n",
      "   - **Areas:** Haskell County, Throckmorton County\n",
      "   - **Severity:** Severe\n",
      "   - **Details:** A severe thunderstorm was reported moving east at 25 mph. Wind gusts of 60 mph and quarter-sized hail are expected.\n",
      "   - **Impact:** Potential damage to vehicles and structures. \n",
      "   - **Time:** Until 5:15 PM CDT\n",
      "\n",
      "2. **Severe Thunderstorm Warning**\n",
      "   - **Areas:** Wilbarger, Wichita counties\n",
      "   - **Severity:** Severe\n",
      "   - **Details:** Severe thunderstorms located over Electra, moving northeast at 25 mph. Wind gusts of 60 mph, and quarter-sized hail are anticipated.\n",
      "   - **Impact:** Possible damage to trees and buildings.\n",
      "   - **Time:** Until 5:15 PM CDT\n",
      "\n",
      "3. **Flood Warnings**\n",
      "   - **Areas:** Navasota River near Easterly, Angelina River near Lufkin, and several others in the region.\n",
      "   - **Severity:** Severe\n",
      "   - **Details:** Minor flooding is expected in various rivers across Texas, affecting multiple counties including Angelina, Nacogdoches, and Cherokee. \n",
      "   - **Impact:** Flood risks for livestock and infrastructure; areas could become inundated.\n",
      "   - **Duration:** Until further notice for some locations.\n",
      "\n",
      "4. **Severe Thunderstorm Watch**\n",
      "   - **Areas:** Parts of northern Texas, including Archer, Baylor, Clay, Foard, Hardeman, Knox, Wichita, and Wilbarger counties.\n",
      "   - **Severity:** Severe\n",
      "   - **Details:** Thunderstorms capable of producing severe conditions may develop later.\n",
      "   - **Time:** Until 9 PM CDT\n",
      "\n",
      "#### Instructions:\n",
      "- **For Severe Thunderstorm Warnings:** Move to an interior room on the lowest floor of a building.\n",
      "- **For Flood Warnings:** Do not drive through flooded areas and stay alert for rising water conditions. \n",
      "\n",
      "Stay safe and monitor local weather updates for any changes or additional warnings. \n",
      " ****************************************************************************************************\n"
     ]
    }
   ],
   "source": [
    "#run the weather reporter agent\n",
    "model = get_model(model_name=\"gpt\")  # Get the GPT model\n",
    "weather_reporter = Agent(\n",
    "    name=\"Weather Reporter\",  # Name of the agent\n",
    "    instructions=SYSTEM_PROMPT,  # System prompt for the agent\n",
    "    model=model,  # Model to use\n",
    "    tools=[get_alerts]  # Register the get_alerts tool\n",
    ")\n",
    "\n",
    "result = await Runner.run(weather_reporter, user_input)  # Run the agent with user input\n",
    "print(f\"\\nResult from weather_reporter: \\n {result.final_output} \\n {'*' * 100}\")  # Print the result"
   ]
  },
  {
   "cell_type": "code",
   "execution_count": null,
   "id": "d0cc23b0-41c7-4f03-a29b-55fae61f2a73",
   "metadata": {},
   "outputs": [],
   "source": []
  },
  {
   "cell_type": "code",
   "execution_count": null,
   "id": "6c40a057-a2b3-4e02-bcfc-398fa7ea7ffc",
   "metadata": {},
   "outputs": [],
   "source": []
  }
 ],
 "metadata": {
  "kernelspec": {
   "display_name": "Python 3 (ipykernel)",
   "language": "python",
   "name": "python3"
  },
  "language_info": {
   "codemirror_mode": {
    "name": "ipython",
    "version": 3
   },
   "file_extension": ".py",
   "mimetype": "text/x-python",
   "name": "python",
   "nbconvert_exporter": "python",
   "pygments_lexer": "ipython3",
   "version": "3.13.2"
  }
 },
 "nbformat": 4,
 "nbformat_minor": 5
}
