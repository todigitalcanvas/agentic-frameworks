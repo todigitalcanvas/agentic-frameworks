{
 "cells": [
  {
   "cell_type": "markdown",
   "id": "afec94c3-a421-41e3-bfd2-e7aa9a335d58",
   "metadata": {},
   "source": [
    "### Multi agent collaborations and tools"
   ]
  },
  {
   "cell_type": "code",
   "execution_count": 1,
   "id": "6e509da7-ca4a-42e9-9a28-95bd82b34055",
   "metadata": {},
   "outputs": [],
   "source": [
    "# Import necessary classes and functions from the agents package\n",
    "from agents import (\n",
    "    Agent,\n",
    "    Runner,\n",
    "    OpenAIChatCompletionsModel,\n",
    "    AsyncOpenAI,\n",
    "    trace,\n",
    "    WebSearchTool,\n",
    ")\n",
    "import asyncio  # For running asynchronous code\n",
    "from dotenv import load_dotenv  # For loading environment variables from a .env file"
   ]
  },
  {
   "cell_type": "code",
   "execution_count": 2,
   "id": "9d8e1131-81f7-4e69-b065-70ab0a2c3c3e",
   "metadata": {},
   "outputs": [
    {
     "data": {
      "text/plain": [
       "True"
      ]
     },
     "execution_count": 2,
     "metadata": {},
     "output_type": "execute_result"
    }
   ],
   "source": [
    "# Load environment variables from .env file\n",
    "load_dotenv()"
   ]
  },
  {
   "cell_type": "code",
   "execution_count": 3,
   "id": "77f7894a-32df-4816-9ede-2540f298ff9f",
   "metadata": {},
   "outputs": [],
   "source": [
    "\n",
    "# Get Model - Local LLM Ollama, LLM GPT\n",
    "def get_model(model_name=\"llama\"):\n",
    "    \"\"\"\n",
    "    Returns a model instance based on the model_name.\n",
    "    - If 'llama', returns a local Ollama LLM model wrapped for OpenAI compatibility.\n",
    "    - If 'gpt', returns the string identifier for the GPT model.\n",
    "    \"\"\"\n",
    "    if model_name == \"llama\":\n",
    "        external_client = AsyncOpenAI(\n",
    "            base_url=\"http://localhost:11434/v1\", api_key=\"not-needed\"\n",
    "        )\n",
    "        model = OpenAIChatCompletionsModel(\n",
    "            openai_client=external_client, model=\"llama3.2:1b\"\n",
    "        )\n",
    "    elif model_name == \"gpt\":\n",
    "        model = \"gpt-4o-mini\"\n",
    "    return model"
   ]
  },
  {
   "cell_type": "code",
   "execution_count": 4,
   "id": "6963b0d2-9eed-4661-8ed7-1b832adb1304",
   "metadata": {},
   "outputs": [],
   "source": [
    "\n",
    "# Agent to be used as a tool for web searching\n",
    "web_searcher_tool = Agent(\n",
    "        name=\"Web searcher\",\n",
    "        instructions=\"You are a helpful agent.\",\n",
    "        model=get_model(model_name=\"gpt\")\n",
    "        )\n",
    "\n",
    "# System prompt for agents responsible for web searching and reporting\n",
    "SYSTEM_PROMPT = \"\"\"\n",
    "    You are a helpful agent. You are responsible for searching the web for information about the user's query.\n",
    "    You have access to the following tools:\n",
    "    - Web Search\n",
    "\"\"\"\n",
    "\n",
    "# Details Reporter agent: uses the web_searcher_tool for detailed web searches\n",
    "# This agent is responsible for providing more detailed information based on a summary\n",
    "# It uses the web_searcher_tool as a tool\n",
    "\n",
    "details_reporter = Agent(\n",
    "        name=\"Details Reporter\",\n",
    "        instructions=SYSTEM_PROMPT,\n",
    "        model=get_model(model_name=\"gpt\"),\n",
    "        tools=[web_searcher_tool.as_tool(\n",
    "            tool_name=\"web_search\",\n",
    "            tool_description=\"\"\"You are responsible for searching the web for detailed information about the user's query.\n",
    "            you will be given summary of interesting updates, and you will need to search the web for more details.\n",
    "            \"\"\",\n",
    "            )],\n",
    "    )\n",
    "\n",
    "# Search Reporter agent: uses the web_searcher_tool for initial web searches\n",
    "# This agent is responsible for providing a summary of interesting updates\n",
    "# It uses the web_searcher_tool as a tool\n",
    "\n",
    "search_reporter = Agent(\n",
    "        name=\"Search Reporter\",\n",
    "        instructions=SYSTEM_PROMPT,\n",
    "        model=get_model(model_name=\"gpt\"),\n",
    "        tools=[web_searcher_tool.as_tool(\n",
    "            tool_name=\"web_search\",\n",
    "            tool_description=\"You are responsible for searching the web for information about the user's query\",\n",
    "            )],\n",
    "    )\n"
   ]
  },
  {
   "cell_type": "code",
   "execution_count": 5,
   "id": "1217d1a6-ca29-4a79-bc13-e4db4ab09dcc",
   "metadata": {},
   "outputs": [],
   "source": [
    "user_input=\"\"\"Search the web for local sports news, and give me 1 interesting update in a sentence.\n",
    "            I am interested in the Toronto Raptors, Toronto Blue Jays, and Toronto Maple Leafs.\n",
    "            \"\"\""
   ]
  },
  {
   "cell_type": "code",
   "execution_count": 6,
   "id": "2f7af462-b27f-4da6-8916-2726b0d2dd07",
   "metadata": {},
   "outputs": [
    {
     "name": "stdout",
     "output_type": "stream",
     "text": [
      "\n",
      "Result from search_reporter: \n",
      " Here are the latest interesting updates for the Toronto teams:\n",
      "\n",
      "1. **Toronto Raptors**: The Raptors are in training camp, focusing on building team chemistry and integrating new players, with their preseason games on the horizon.\n",
      "\n",
      "2. **Toronto Blue Jays**: The Blue Jays have made the postseason and are generating excitement among fans as they gear up for playoff games, hoping for a deep run.\n",
      "\n",
      "3. **Toronto Maple Leafs**: As the preseason continues, the Maple Leafs are finalizing their roster while new players are impressing the coaching staff ahead of the regular season. \n",
      "\n",
      "Let me know if you need more details on any specific team! \n",
      "\n",
      "\n",
      "Result from details_reporter: \n",
      " Here are the latest updates for the Toronto teams as of October 2023:\n",
      "\n",
      "### Toronto Raptors\n",
      "- **Training Camp**: The Raptors are focused on building team chemistry and integrating new players. Notable performances are coming from **Pascal Siakam** and **Scottie Barnes**, who are expected to step into larger leadership roles.\n",
      "- **Rookies**: Gradey Dick, the recent draftee, is adapting well, showcasing his shooting abilities.\n",
      "- **Injuries**: So far, there are no significant injuries reported, allowing for full participation in scrimmages.\n",
      "- **Coaching**: New Head Coach **Darko Rajaković** is implementing strategies that emphasize ball movement and player versatility. The team is actively practicing offensive and defensive systems.\n",
      "\n",
      "### Toronto Blue Jays\n",
      "- **Playoff Preparation**: The Blue Jays have secured a spot in the postseason, and the team is currently finalizing the playoff roster. Evaluations of player health and performance are crucial.\n",
      "- **Pitching Strategy**: The coaching staff is adjusting the pitching rotation to set up their best pitchers for critical games. \n",
      "- **Engagement**: The team is focusing on community involvement to boost fan support leading into the playoffs. Mental conditioning sessions are also part of their preparations.\n",
      "\n",
      "### Toronto Maple Leafs\n",
      "- **Preseason Roster**: The Maple Leafs have finalized their roster, with attention on key player movements. Young prospects are making their mark, potentially influencing their season roles.\n",
      "- **Lineup Experiments**: The coaching staff is trying out various player combinations to finalize setups before the regular season.\n",
      "- **Monitoring Injuries**: As preseason progresses, keeping an eye on injury reports will be important for roster adjustments leading into the season.\n",
      "\n",
      "For more detailed coverage and live updates, don’t hesitate to check the teams' official websites and local sports news outlets! \n",
      " ****************************************************************************************************\n"
     ]
    }
   ],
   "source": [
    "# Handoffs: first get a summary, then get more details\n",
    "with trace(\"Search Reporter\"):\n",
    "    result_summary = await Runner.run(search_reporter, user_input)\n",
    "    \n",
    "with trace(\"Details Reporter\"):\n",
    "    result_details = await Runner.run(details_reporter, result_summary.final_output)\n",
    "\n",
    "print(f\"\\nResult from search_reporter: \\n {result_summary.final_output} \\n\")\n",
    "print(f\"\\nResult from details_reporter: \\n {result_details.final_output} \\n {'*' * 100}\")"
   ]
  },
  {
   "cell_type": "code",
   "execution_count": null,
   "id": "837d650a-64ed-47e8-bec4-84aed67ddbaf",
   "metadata": {},
   "outputs": [],
   "source": []
  }
 ],
 "metadata": {
  "kernelspec": {
   "display_name": "Python 3 (ipykernel)",
   "language": "python",
   "name": "python3"
  },
  "language_info": {
   "codemirror_mode": {
    "name": "ipython",
    "version": 3
   },
   "file_extension": ".py",
   "mimetype": "text/x-python",
   "name": "python",
   "nbconvert_exporter": "python",
   "pygments_lexer": "ipython3",
   "version": "3.13.2"
  }
 },
 "nbformat": 4,
 "nbformat_minor": 5
}
