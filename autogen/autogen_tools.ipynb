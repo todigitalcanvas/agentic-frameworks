{
 "cells": [
  {
   "cell_type": "markdown",
   "id": "2d12d27c-91ab-406d-880c-daa73d4cfe05",
   "metadata": {},
   "source": [
    "###  LangChain tools via adapters, any third party tools.\n"
   ]
  },
  {
   "cell_type": "code",
   "execution_count": 1,
   "id": "9f55e3f6-6158-42ac-bfb0-0647d8bb82c7",
   "metadata": {},
   "outputs": [
    {
     "ename": "ModuleNotFoundError",
     "evalue": "No module named 'langchain_community'",
     "output_type": "error",
     "traceback": [
      "\u001b[31m---------------------------------------------------------------------------\u001b[39m",
      "\u001b[31mModuleNotFoundError\u001b[39m                       Traceback (most recent call last)",
      "\u001b[36mCell\u001b[39m\u001b[36m \u001b[39m\u001b[32mIn[1]\u001b[39m\u001b[32m, line 9\u001b[39m\n\u001b[32m      7\u001b[39m \u001b[38;5;28;01mfrom\u001b[39;00m\u001b[38;5;250m \u001b[39m\u001b[34;01mautogen_agentchat\u001b[39;00m\u001b[34;01m.\u001b[39;00m\u001b[34;01mmessages\u001b[39;00m\u001b[38;5;250m \u001b[39m\u001b[38;5;28;01mimport\u001b[39;00m TextMessage\n\u001b[32m      8\u001b[39m \u001b[38;5;28;01mfrom\u001b[39;00m\u001b[38;5;250m \u001b[39m\u001b[34;01mautogen_ext\u001b[39;00m\u001b[34;01m.\u001b[39;00m\u001b[34;01mtools\u001b[39;00m\u001b[34;01m.\u001b[39;00m\u001b[34;01mlangchain\u001b[39;00m\u001b[38;5;250m \u001b[39m\u001b[38;5;28;01mimport\u001b[39;00m LangChainToolAdapter\n\u001b[32m----> \u001b[39m\u001b[32m9\u001b[39m \u001b[38;5;28;01mfrom\u001b[39;00m\u001b[38;5;250m \u001b[39m\u001b[34;01mlangchain_community\u001b[39;00m\u001b[34;01m.\u001b[39;00m\u001b[34;01mutilities\u001b[39;00m\u001b[38;5;250m \u001b[39m\u001b[38;5;28;01mimport\u001b[39;00m GoogleSerperAPIWrapper\n\u001b[32m     10\u001b[39m \u001b[38;5;28;01mfrom\u001b[39;00m\u001b[38;5;250m \u001b[39m\u001b[34;01mlangchain_community\u001b[39;00m\u001b[34;01m.\u001b[39;00m\u001b[34;01magent_toolkits\u001b[39;00m\u001b[38;5;250m \u001b[39m\u001b[38;5;28;01mimport\u001b[39;00m FileManagementToolkit\n\u001b[32m     11\u001b[39m \u001b[38;5;28;01mfrom\u001b[39;00m\u001b[38;5;250m \u001b[39m\u001b[34;01mIPython\u001b[39;00m\u001b[34;01m.\u001b[39;00m\u001b[34;01mdisplay\u001b[39;00m\u001b[38;5;250m \u001b[39m\u001b[38;5;28;01mimport\u001b[39;00m display, Markdown\n",
      "\u001b[31mModuleNotFoundError\u001b[39m: No module named 'langchain_community'"
     ]
    }
   ],
   "source": [
    "import asyncio\n",
    "from dataclasses import dataclass\n",
    "from autogen_core import CancellationToken\n",
    "from autogen_ext.models.openai import OpenAIChatCompletionClient\n",
    "from autogen_ext.models.ollama import OllamaChatCompletionClient\n",
    "from autogen_agentchat.agents import AssistantAgent\n",
    "from autogen_agentchat.messages import TextMessage\n",
    "from autogen_ext.tools.langchain import LangChainToolAdapter\n",
    "from langchain_community.utilities import GoogleSerperAPIWrapper\n",
    "from langchain_community.agent_toolkits import FileManagementToolkit\n",
    "from IPython.display import display, Markdown\n",
    "from langchain.agents import Tool\n",
    "from dotenv import load_dotenv"
   ]
  },
  {
   "cell_type": "code",
   "execution_count": 2,
   "id": "38075996-4e86-4b70-a827-356e3a6b1171",
   "metadata": {},
   "outputs": [],
   "source": [
    "# This script demonstrates an AutoGen agent that can use both internet search and file management tools. \n",
    "# The agent is tasked with searching for stock information and writing it to a file, using LangChain tools via adapters."
   ]
  },
  {
   "cell_type": "code",
   "execution_count": 2,
   "id": "283a7838-242c-4a64-b89e-977a8ea8485a",
   "metadata": {},
   "outputs": [
    {
     "data": {
      "text/plain": [
       "True"
      ]
     },
     "execution_count": 2,
     "metadata": {},
     "output_type": "execute_result"
    }
   ],
   "source": [
    "load_dotenv()"
   ]
  },
  {
   "cell_type": "code",
   "execution_count": 3,
   "id": "0cbfdf68-0b03-42c2-8c9e-dc41c8bc60db",
   "metadata": {},
   "outputs": [],
   "source": [
    "# Helper function to set up and return a list of tools for the agent\n",
    "def get_tools():\n",
    "    # Internet search tool (Google Serper via LangChain)\n",
    "    serper = GoogleSerperAPIWrapper()\n",
    "    langchain_serper = Tool(name=\"internet_search\", func=serper.run, description=\"Tool for searching on internet\")\n",
    "    autogen_serper = LangChainToolAdapter(langchain_serper)  # Adapter for AutoGen\n",
    "    autogen_tools = [autogen_serper]\n",
    "    \n",
    "    # File management tools (read/write files, list directory, etc.)\n",
    "    langchain_file_management_tools = FileManagementToolkit(root_dir=\"output\").get_tools()\n",
    "    for tool in langchain_file_management_tools:\n",
    "        autogen_tools.append(LangChainToolAdapter(tool))  # Wrap each tool for AutoGen\n",
    "    \n",
    "    return autogen_tools\n",
    "\n",
    "# Helper function to get a model client for the agent (OpenAI or Ollama)\n",
    "def get_model_client(model_name: str):\n",
    "    if model_name == \"gpt\":\n",
    "        return OpenAIChatCompletionClient(model=\"gpt-4o-mini\")  # Use OpenAI GPT model\n",
    "    elif model_name == \"llama\":\n",
    "        return OllamaChatCompletionClient(model=\"llama3.2:1b\")  # Use local Ollama Llama model"
   ]
  },
  {
   "cell_type": "code",
   "execution_count": 4,
   "id": "cd3938ff-a0db-4ba3-acd8-9d38b5b0c655",
   "metadata": {},
   "outputs": [],
   "source": [
    "company_name=\"Tesla Inc\""
   ]
  },
  {
   "cell_type": "code",
   "execution_count": 5,
   "id": "476fee5e-8bde-4dd7-9d34-32b9dddb060f",
   "metadata": {},
   "outputs": [
    {
     "ename": "ValidationError",
     "evalue": "1 validation error for GoogleSerperAPIWrapper\n  Value error, Did not find serper_api_key, please add an environment variable `SERPER_API_KEY` which contains it, or pass `serper_api_key` as a named parameter. [type=value_error, input_value={}, input_type=dict]\n    For further information visit https://errors.pydantic.dev/2.11/v/value_error",
     "output_type": "error",
     "traceback": [
      "\u001b[31m---------------------------------------------------------------------------\u001b[39m",
      "\u001b[31mValidationError\u001b[39m                           Traceback (most recent call last)",
      "\u001b[36mCell\u001b[39m\u001b[36m \u001b[39m\u001b[32mIn[5]\u001b[39m\u001b[32m, line 1\u001b[39m\n\u001b[32m----> \u001b[39m\u001b[32m1\u001b[39m autogen_tools = get_tools()  \u001b[38;5;66;03m# Get the list of tools (search, file management)\u001b[39;00m\n\u001b[32m      2\u001b[39m model_client = get_model_client(\u001b[33m\"\u001b[39m\u001b[33mgpt\u001b[39m\u001b[33m\"\u001b[39m)  \u001b[38;5;66;03m# Choose the model client\u001b[39;00m\n\u001b[32m      3\u001b[39m \u001b[38;5;66;03m# Create the AssistantAgent with tool access and reflection enabled\u001b[39;00m\n",
      "\u001b[36mCell\u001b[39m\u001b[36m \u001b[39m\u001b[32mIn[3]\u001b[39m\u001b[32m, line 4\u001b[39m, in \u001b[36mget_tools\u001b[39m\u001b[34m()\u001b[39m\n\u001b[32m      2\u001b[39m \u001b[38;5;28;01mdef\u001b[39;00m\u001b[38;5;250m \u001b[39m\u001b[34mget_tools\u001b[39m():\n\u001b[32m      3\u001b[39m     \u001b[38;5;66;03m# Internet search tool (Google Serper via LangChain)\u001b[39;00m\n\u001b[32m----> \u001b[39m\u001b[32m4\u001b[39m     serper = GoogleSerperAPIWrapper()\n\u001b[32m      5\u001b[39m     langchain_serper = Tool(name=\u001b[33m\"\u001b[39m\u001b[33minternet_search\u001b[39m\u001b[33m\"\u001b[39m, func=serper.run, description=\u001b[33m\"\u001b[39m\u001b[33mTool for searching on internet\u001b[39m\u001b[33m\"\u001b[39m)\n\u001b[32m      6\u001b[39m     autogen_serper = LangChainToolAdapter(langchain_serper)  \u001b[38;5;66;03m# Adapter for AutoGen\u001b[39;00m\n",
      "\u001b[36mFile \u001b[39m\u001b[32mD:\\software\\anaconda\\anaconda3\\envs\\autogen4\\Lib\\site-packages\\pydantic\\main.py:253\u001b[39m, in \u001b[36mBaseModel.__init__\u001b[39m\u001b[34m(self, **data)\u001b[39m\n\u001b[32m    251\u001b[39m \u001b[38;5;66;03m# `__tracebackhide__` tells pytest and some other tools to omit this function from tracebacks\u001b[39;00m\n\u001b[32m    252\u001b[39m __tracebackhide__ = \u001b[38;5;28;01mTrue\u001b[39;00m\n\u001b[32m--> \u001b[39m\u001b[32m253\u001b[39m validated_self = \u001b[38;5;28mself\u001b[39m.__pydantic_validator__.validate_python(data, self_instance=\u001b[38;5;28mself\u001b[39m)\n\u001b[32m    254\u001b[39m \u001b[38;5;28;01mif\u001b[39;00m \u001b[38;5;28mself\u001b[39m \u001b[38;5;129;01mis\u001b[39;00m \u001b[38;5;129;01mnot\u001b[39;00m validated_self:\n\u001b[32m    255\u001b[39m     warnings.warn(\n\u001b[32m    256\u001b[39m         \u001b[33m'\u001b[39m\u001b[33mA custom validator is returning a value other than `self`.\u001b[39m\u001b[38;5;130;01m\\n\u001b[39;00m\u001b[33m'\u001b[39m\n\u001b[32m    257\u001b[39m         \u001b[33m\"\u001b[39m\u001b[33mReturning anything other than `self` from a top level model validator isn\u001b[39m\u001b[33m'\u001b[39m\u001b[33mt supported when validating via `__init__`.\u001b[39m\u001b[38;5;130;01m\\n\u001b[39;00m\u001b[33m\"\u001b[39m\n\u001b[32m    258\u001b[39m         \u001b[33m'\u001b[39m\u001b[33mSee the `model_validator` docs (https://docs.pydantic.dev/latest/concepts/validators/#model-validators) for more details.\u001b[39m\u001b[33m'\u001b[39m,\n\u001b[32m    259\u001b[39m         stacklevel=\u001b[32m2\u001b[39m,\n\u001b[32m    260\u001b[39m     )\n",
      "\u001b[31mValidationError\u001b[39m: 1 validation error for GoogleSerperAPIWrapper\n  Value error, Did not find serper_api_key, please add an environment variable `SERPER_API_KEY` which contains it, or pass `serper_api_key` as a named parameter. [type=value_error, input_value={}, input_type=dict]\n    For further information visit https://errors.pydantic.dev/2.11/v/value_error"
     ]
    }
   ],
   "source": [
    "autogen_tools = get_tools()  # Get the list of tools (search, file management)\n",
    "model_client = get_model_client(\"gpt\")  # Choose the model client\n",
    "# Create the AssistantAgent with tool access and reflection enabled\n",
    "agent = AssistantAgent(name=\"searcher\", \n",
    "                       model_client=model_client, \n",
    "                       tools=autogen_tools, \n",
    "                       reflect_on_tool_use=True\n",
    "                      )\n",
    "\n",
    "# Compose the prompt for the agent\n",
    "prompt = f\"\"\"Your task is to search for stock information for the company named {company_name}, and write all the information to a file called stocks_data.md with full details.\n",
    "    Information to include:\n",
    "    - Stock price\n",
    "    - Market cap\n",
    "    - PE ratio\n",
    "    - EPS\n",
    "    - Dividend yield\n",
    "    - 52-week range\n",
    "    - 52-week performance\n",
    "\n",
    "\"\"\"\n",
    "\n",
    "print(f\"\\n Prompt: \\n {prompt}\")\n",
    "message = TextMessage(content=prompt, source=\"user\")\n",
    "\n",
    "# Send the initial prompt to the agent and await the response\n",
    "result = await agent.on_messages([message], cancellation_token=CancellationToken())\n",
    "print(f\"\\n Response: \\n {result.chat_message.content}\")\n",
    "\n",
    "# Send a follow-up message to proceed\n",
    "message = TextMessage(content=\"OK proceed\", source=\"user\")\n",
    "result = await agent.on_messages([message], cancellation_token=CancellationToken())\n",
    "\n",
    "print(f\"\\n Response: \\n \")\n",
    "for message in result.inner_messages:\n",
    "    print(message.content)\n",
    "        "
   ]
  },
  {
   "cell_type": "code",
   "execution_count": null,
   "id": "54c112c3-e54b-4cff-9b94-6923c9f1b34a",
   "metadata": {},
   "outputs": [],
   "source": []
  }
 ],
 "metadata": {
  "kernelspec": {
   "display_name": "Python 3 (ipykernel)",
   "language": "python",
   "name": "python3"
  },
  "language_info": {
   "codemirror_mode": {
    "name": "ipython",
    "version": 3
   },
   "file_extension": ".py",
   "mimetype": "text/x-python",
   "name": "python",
   "nbconvert_exporter": "python",
   "pygments_lexer": "ipython3",
   "version": "3.13.2"
  }
 },
 "nbformat": 4,
 "nbformat_minor": 5
}
