{
 "cells": [
  {
   "cell_type": "code",
   "execution_count": 4,
   "id": "9f55e3f6-6158-42ac-bfb0-0647d8bb82c7",
   "metadata": {},
   "outputs": [],
   "source": [
    "import asyncio\n",
    "from dataclasses import dataclass\n",
    "from autogen_core import AgentId, MessageContext, RoutedAgent, message_handler,SingleThreadedAgentRuntime\n",
    "import random"
   ]
  },
  {
   "cell_type": "code",
   "execution_count": 5,
   "id": "0cbfdf68-0b03-42c2-8c9e-dc41c8bc60db",
   "metadata": {},
   "outputs": [],
   "source": [
    "\n",
    "def get_ai_joke():\n",
    "    jokes = [\n",
    "        \"Why did the AI go to therapy? It had deep learning issues.\",\n",
    "        \"I asked my AI assistant to tell me a joke. It replied: 'I'm afraid I can't do that, Dave.'\",\n",
    "        \"Why did the neural network break up with the algorithm? It lost its sense of direction.\",\n",
    "        \"Why was the robot so bad at soccer? It kept kicking up errors.\",\n",
    "        \"Why don't AI systems make good comedians? Their timing is always off… by milliseconds.\",\n",
    "        \"How does an AI flirt? It gives you its number… of training epochs.\",\n",
    "        \"Why did the AI cross the road? It was part of its training data.\",\n",
    "        \"What did the human say to the AI after losing a chess game? 'I need to process my feelings, not just data!'\",\n",
    "        \"My AI friend told me it dreams of electric sheep. I told it to lay off the sci-fi books.\",\n",
    "        \"Why was the AI so calm during the apocalypse? It had already simulated the outcome 10,000 times.\"\n",
    "    ]\n",
    "    return random.choice(jokes)"
   ]
  },
  {
   "cell_type": "code",
   "execution_count": 7,
   "id": "476fee5e-8bde-4dd7-9d34-32b9dddb060f",
   "metadata": {},
   "outputs": [],
   "source": [
    "\n",
    "#Step 1: Define the message class\n",
    "@dataclass\n",
    "class Message:\n",
    "    content: str\n",
    "\n",
    "\n",
    "#Step 2: Define the agent class\n",
    "class JokeStarAgent(RoutedAgent):\n",
    "    def __init__(self) -> None:\n",
    "        super().__init__(\"JokeStar\")\n",
    "\n",
    "    @message_handler\n",
    "    async def on_my_message(self, message: Message, ctx: MessageContext) -> Message:\n",
    "        joke = get_ai_joke()\n",
    "        user_message = message.content\n",
    "        \n",
    "        reply = f\"\"\"This is {self.id.type}-{self.id.key}.\n",
    "        You said: '{user_message}'\n",
    "        Here's a joke for you: {joke}\"\"\"\n",
    "\n",
    "        return Message(content=reply)"
   ]
  },
  {
   "cell_type": "code",
   "execution_count": 8,
   "id": "9ebb2940-e848-4fbc-b739-848ada6d7726",
   "metadata": {},
   "outputs": [
    {
     "name": "stdout",
     "output_type": "stream",
     "text": [
      "\n",
      " Response: \n",
      " This is joke_star_agent-default.\n",
      "        You said: 'Well hi there! Can you tell me a joke?'\n",
      "        Here's a joke for you: Why did the AI cross the road? It was part of its training data.\n"
     ]
    }
   ],
   "source": [
    "\n",
    "##send message\n",
    "\n",
    "#Step 3: Create the runtime\n",
    "runtime = SingleThreadedAgentRuntime()\n",
    "await JokeStarAgent.register(runtime, \"joke_star_agent\", lambda: JokeStarAgent())\n",
    "runtime.start()\n",
    "#Step 4: Agent ID\n",
    "agent_id = AgentId(\"joke_star_agent\", \"default\")\n",
    "\n",
    "result = await runtime.send_message(\n",
    "    Message(\"Well hi there! Can you tell me a joke?\"), agent_id\n",
    "    )\n",
    "\n",
    "print(f\"\\n Response: \\n {result.content}\")"
   ]
  },
  {
   "cell_type": "code",
   "execution_count": null,
   "id": "c77dfa55-b96a-42ae-89db-d1d60fe6b39c",
   "metadata": {},
   "outputs": [],
   "source": []
  }
 ],
 "metadata": {
  "kernelspec": {
   "display_name": "Python 3 (ipykernel)",
   "language": "python",
   "name": "python3"
  },
  "language_info": {
   "codemirror_mode": {
    "name": "ipython",
    "version": 3
   },
   "file_extension": ".py",
   "mimetype": "text/x-python",
   "name": "python",
   "nbconvert_exporter": "python",
   "pygments_lexer": "ipython3",
   "version": "3.13.2"
  }
 },
 "nbformat": 4,
 "nbformat_minor": 5
}
